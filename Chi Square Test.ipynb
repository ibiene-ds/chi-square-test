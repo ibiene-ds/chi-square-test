{
 "cells": [
  {
   "cell_type": "markdown",
   "id": "dd1e8d14",
   "metadata": {},
   "source": [
    "# Assessing Campaign Performance using Chi-Square Test for Independence"
   ]
  },
  {
   "cell_type": "markdown",
   "id": "b1624509",
   "metadata": {},
   "source": [
    "## Problem Statement/Project Overview\n",
    "\n",
    "Earlier in the year, our client, a grocery retailer, ran a campaign to promote their new \"Delivery Club\" - an initiative that costs a customer 100 dollars per year for membership, but offers free grocery deliveries rather than the normal cost of 10 dollars per delivery.\n",
    "\n",
    "For the campaign promoting the club, customers were put randomly into three groups - the first group received a low quality, low cost mailer, the second group received a high quality, high cost mailer, and the third group were a control group, receiving no mailer at all.\n",
    "\n",
    "The client knows that customers who were contacted, signed up for the Delivery Club at a far higher rate than the control group, but now want to understand if there is a significant difference in signup rate between the cheap mailer and the expensive mailer.  This will allow them to make more informed decisions in the future, with the overall aim of optimising campaign ROI!\n",
    "\n"
   ]
  },
  {
   "cell_type": "markdown",
   "id": "6a6930d6",
   "metadata": {},
   "source": [
    "## Approach\n",
    "\n",
    "To do this, we apply Chi-Square Test For Independence (a Hypothesis Test) to assess the performance of two types of mailers that were sent out to promote a new service! \n",
    "\n",
    "For this test, as it is focused on comparing the *rates* of two groups - we applied the Chi-Square Test For Independence.  Full details of this test can be found in the dedicated section below.\n"
   ]
  },
  {
   "cell_type": "markdown",
   "id": "3e7ba86e",
   "metadata": {},
   "source": [
    "### Import and understand data"
   ]
  },
  {
   "cell_type": "code",
   "execution_count": 2,
   "id": "d8c63cb2",
   "metadata": {},
   "outputs": [],
   "source": [
    "import pandas as pd\n",
    "from scipy.stats import chi2_contingency, chi2"
   ]
  },
  {
   "cell_type": "code",
   "execution_count": 4,
   "id": "8aea4a00",
   "metadata": {},
   "outputs": [],
   "source": [
    "campaign_data = pd.read_excel(\"C:/Users/Ibiene/OneDrive/DataScience_MachineLearning/Data Science Infinity/Machine Learning/Model Building/data/grocery_database.xlsx\", sheet_name = 'campaign_data')"
   ]
  },
  {
   "cell_type": "code",
   "execution_count": 5,
   "id": "0155f513",
   "metadata": {},
   "outputs": [
    {
     "data": {
      "text/html": [
       "<div>\n",
       "<style scoped>\n",
       "    .dataframe tbody tr th:only-of-type {\n",
       "        vertical-align: middle;\n",
       "    }\n",
       "\n",
       "    .dataframe tbody tr th {\n",
       "        vertical-align: top;\n",
       "    }\n",
       "\n",
       "    .dataframe thead th {\n",
       "        text-align: right;\n",
       "    }\n",
       "</style>\n",
       "<table border=\"1\" class=\"dataframe\">\n",
       "  <thead>\n",
       "    <tr style=\"text-align: right;\">\n",
       "      <th></th>\n",
       "      <th>customer_id</th>\n",
       "      <th>campaign_name</th>\n",
       "      <th>campaign_date</th>\n",
       "      <th>mailer_type</th>\n",
       "      <th>signup_flag</th>\n",
       "    </tr>\n",
       "  </thead>\n",
       "  <tbody>\n",
       "    <tr>\n",
       "      <th>0</th>\n",
       "      <td>74</td>\n",
       "      <td>delivery_club</td>\n",
       "      <td>2020-07-01</td>\n",
       "      <td>Mailer1</td>\n",
       "      <td>1</td>\n",
       "    </tr>\n",
       "    <tr>\n",
       "      <th>1</th>\n",
       "      <td>524</td>\n",
       "      <td>delivery_club</td>\n",
       "      <td>2020-07-01</td>\n",
       "      <td>Mailer1</td>\n",
       "      <td>1</td>\n",
       "    </tr>\n",
       "    <tr>\n",
       "      <th>2</th>\n",
       "      <td>607</td>\n",
       "      <td>delivery_club</td>\n",
       "      <td>2020-07-01</td>\n",
       "      <td>Mailer2</td>\n",
       "      <td>1</td>\n",
       "    </tr>\n",
       "    <tr>\n",
       "      <th>3</th>\n",
       "      <td>343</td>\n",
       "      <td>delivery_club</td>\n",
       "      <td>2020-07-01</td>\n",
       "      <td>Mailer1</td>\n",
       "      <td>0</td>\n",
       "    </tr>\n",
       "    <tr>\n",
       "      <th>4</th>\n",
       "      <td>322</td>\n",
       "      <td>delivery_club</td>\n",
       "      <td>2020-07-01</td>\n",
       "      <td>Mailer2</td>\n",
       "      <td>1</td>\n",
       "    </tr>\n",
       "  </tbody>\n",
       "</table>\n",
       "</div>"
      ],
      "text/plain": [
       "   customer_id  campaign_name campaign_date mailer_type  signup_flag\n",
       "0           74  delivery_club    2020-07-01     Mailer1            1\n",
       "1          524  delivery_club    2020-07-01     Mailer1            1\n",
       "2          607  delivery_club    2020-07-01     Mailer2            1\n",
       "3          343  delivery_club    2020-07-01     Mailer1            0\n",
       "4          322  delivery_club    2020-07-01     Mailer2            1"
      ]
     },
     "execution_count": 5,
     "metadata": {},
     "output_type": "execute_result"
    }
   ],
   "source": [
    "campaign_data.head()"
   ]
  },
  {
   "cell_type": "code",
   "execution_count": 6,
   "id": "14af5145",
   "metadata": {},
   "outputs": [
    {
     "data": {
      "text/plain": [
       "Mailer1    375\n",
       "Mailer2    336\n",
       "Control    159\n",
       "Name: mailer_type, dtype: int64"
      ]
     },
     "execution_count": 6,
     "metadata": {},
     "output_type": "execute_result"
    }
   ],
   "source": [
    "#remove customers who were in the control group\n",
    "campaign_data.mailer_type.value_counts()"
   ]
  },
  {
   "cell_type": "code",
   "execution_count": 7,
   "id": "6b736985",
   "metadata": {},
   "outputs": [],
   "source": [
    "campaign_data = campaign_data[campaign_data.mailer_type != \"Control\"]"
   ]
  },
  {
   "cell_type": "code",
   "execution_count": 8,
   "id": "f6007d85",
   "metadata": {},
   "outputs": [
    {
     "data": {
      "text/plain": [
       "Mailer1    375\n",
       "Mailer2    336\n",
       "Name: mailer_type, dtype: int64"
      ]
     },
     "execution_count": 8,
     "metadata": {},
     "output_type": "execute_result"
    }
   ],
   "source": [
    "campaign_data.mailer_type.value_counts()"
   ]
  },
  {
   "cell_type": "code",
   "execution_count": 31,
   "id": "9b0a4975",
   "metadata": {
    "scrolled": true
   },
   "outputs": [
    {
     "data": {
      "text/html": [
       "<div>\n",
       "<style scoped>\n",
       "    .dataframe tbody tr th:only-of-type {\n",
       "        vertical-align: middle;\n",
       "    }\n",
       "\n",
       "    .dataframe tbody tr th {\n",
       "        vertical-align: top;\n",
       "    }\n",
       "\n",
       "    .dataframe thead th {\n",
       "        text-align: right;\n",
       "    }\n",
       "</style>\n",
       "<table border=\"1\" class=\"dataframe\">\n",
       "  <thead>\n",
       "    <tr style=\"text-align: right;\">\n",
       "      <th></th>\n",
       "      <th>signup_flag</th>\n",
       "    </tr>\n",
       "    <tr>\n",
       "      <th>mailer_type</th>\n",
       "      <th></th>\n",
       "    </tr>\n",
       "  </thead>\n",
       "  <tbody>\n",
       "    <tr>\n",
       "      <th>Mailer1</th>\n",
       "      <td>0.328000</td>\n",
       "    </tr>\n",
       "    <tr>\n",
       "      <th>Mailer2</th>\n",
       "      <td>0.377976</td>\n",
       "    </tr>\n",
       "  </tbody>\n",
       "</table>\n",
       "</div>"
      ],
      "text/plain": [
       "             signup_flag\n",
       "mailer_type             \n",
       "Mailer1         0.328000\n",
       "Mailer2         0.377976"
      ]
     },
     "execution_count": 31,
     "metadata": {},
     "output_type": "execute_result"
    }
   ],
   "source": [
    "pd.pivot_table(campaign_data, index = ['mailer_type'], values = ['signup_flag'])\n",
    "\n"
   ]
  },
  {
   "cell_type": "markdown",
   "id": "5d73db0c",
   "metadata": {},
   "source": [
    "Mailer 2 appears to have a higher sign up flag of 37.8% - is that significantly different from Mailer 1 at 32.8% or is it random chance?"
   ]
  },
  {
   "cell_type": "code",
   "execution_count": 29,
   "id": "3d5b8882",
   "metadata": {},
   "outputs": [
    {
     "data": {
      "text/html": [
       "<div>\n",
       "<style scoped>\n",
       "    .dataframe tbody tr th:only-of-type {\n",
       "        vertical-align: middle;\n",
       "    }\n",
       "\n",
       "    .dataframe tbody tr th {\n",
       "        vertical-align: top;\n",
       "    }\n",
       "\n",
       "    .dataframe thead th {\n",
       "        text-align: right;\n",
       "    }\n",
       "</style>\n",
       "<table border=\"1\" class=\"dataframe\">\n",
       "  <thead>\n",
       "    <tr style=\"text-align: right;\">\n",
       "      <th></th>\n",
       "      <th>customer_id</th>\n",
       "    </tr>\n",
       "    <tr>\n",
       "      <th>mailer_type</th>\n",
       "      <th></th>\n",
       "    </tr>\n",
       "  </thead>\n",
       "  <tbody>\n",
       "    <tr>\n",
       "      <th>Mailer1</th>\n",
       "      <td>375</td>\n",
       "    </tr>\n",
       "    <tr>\n",
       "      <th>Mailer2</th>\n",
       "      <td>336</td>\n",
       "    </tr>\n",
       "  </tbody>\n",
       "</table>\n",
       "</div>"
      ],
      "text/plain": [
       "             customer_id\n",
       "mailer_type             \n",
       "Mailer1              375\n",
       "Mailer2              336"
      ]
     },
     "execution_count": 29,
     "metadata": {},
     "output_type": "execute_result"
    }
   ],
   "source": [
    "pd.pivot_table(campaign_data, index = ['mailer_type'], values = ['customer_id'], aggfunc = 'count')"
   ]
  },
  {
   "cell_type": "markdown",
   "id": "5c3ca6a2",
   "metadata": {},
   "source": [
    "### Establish null, alternate hypotheses, and acceptance criteria"
   ]
  },
  {
   "cell_type": "code",
   "execution_count": 10,
   "id": "9baff8f2",
   "metadata": {},
   "outputs": [],
   "source": [
    "null_hypothesis = \"There is no relationship between mailer type and signup rate. They are independent\"\n",
    "alternate_hypothesis = \"There is a relationship between mailer type and signup rate. They are not independent\"\n",
    "acceptance_criteria = 0.05"
   ]
  },
  {
   "cell_type": "markdown",
   "id": "06ccf915",
   "metadata": {},
   "source": [
    "### Calculate observed frequencies and expected frequencies. \n",
    "Note that **observed frequencies** are the true values we've seen, that is, the actual rates per group in the data itself. \n",
    "The **expected frequencies** are what we would expect to see based on all of the data combined.\n",
    "\n",
    "The code below summarises the dataset to a 2x2 matrix for **signup_flag* by **mailer_type**\n"
   ]
  },
  {
   "cell_type": "code",
   "execution_count": 41,
   "id": "d7d12730",
   "metadata": {},
   "outputs": [
    {
     "data": {
      "text/plain": [
       "array([[252, 123],\n",
       "       [209, 127]], dtype=int64)"
      ]
     },
     "execution_count": 41,
     "metadata": {},
     "output_type": "execute_result"
    }
   ],
   "source": [
    "observed_values = pd.crosstab(campaign_data.mailer_type, campaign_data.signup_flag).values\n",
    "observed_values"
   ]
  },
  {
   "cell_type": "code",
   "execution_count": 42,
   "id": "4da39ec3",
   "metadata": {},
   "outputs": [],
   "source": [
    "chi2_statistic, p_value, dof, expected_values = chi2_contingency(observed_values, correction = False)"
   ]
  },
  {
   "cell_type": "markdown",
   "id": "98c5a3f0",
   "metadata": {},
   "source": [
    "**Note** When applying the Chi-Square Test above, we use the parameter *correction = False* which means we are applying what is known as the *Yate's Correction* which is applied when your Degrees of Freedom is equal to one.  This correction helps to prevent overestimation of statistical signficance in this case.\n"
   ]
  },
  {
   "cell_type": "markdown",
   "id": "50a5dd2b",
   "metadata": {},
   "source": [
    "### Print Results and Interpretation"
   ]
  },
  {
   "cell_type": "code",
   "execution_count": 38,
   "id": "4dc496b0",
   "metadata": {
    "scrolled": true
   },
   "outputs": [
    {
     "name": "stdout",
     "output_type": "stream",
     "text": [
      "1.9414468614812481\n"
     ]
    }
   ],
   "source": [
    "print(chi2_statistic)"
   ]
  },
  {
   "cell_type": "code",
   "execution_count": 15,
   "id": "8034052b",
   "metadata": {},
   "outputs": [
    {
     "name": "stdout",
     "output_type": "stream",
     "text": [
      "0.16351152223398197\n"
     ]
    }
   ],
   "source": [
    "print(p_value)"
   ]
  },
  {
   "cell_type": "code",
   "execution_count": 16,
   "id": "4d854b10",
   "metadata": {},
   "outputs": [],
   "source": [
    "critical_value = chi2.ppf(1-acceptance_criteria, dof)"
   ]
  },
  {
   "cell_type": "code",
   "execution_count": 17,
   "id": "a6a2d0f6",
   "metadata": {},
   "outputs": [
    {
     "name": "stdout",
     "output_type": "stream",
     "text": [
      "3.841458820694124\n"
     ]
    }
   ],
   "source": [
    "print(critical_value)"
   ]
  },
  {
   "cell_type": "code",
   "execution_count": 18,
   "id": "766b80cb",
   "metadata": {},
   "outputs": [
    {
     "name": "stdout",
     "output_type": "stream",
     "text": [
      "As our p-value of 0.16351152223398197 is higher than our acceptance_criteria of 0.05 - we retain the null hypothesis, and conclude that: There is no relationship between mailer type and signup rate. They are independent\n"
     ]
    }
   ],
   "source": [
    "# print results based on p-value\n",
    "if p_value <= acceptance_criteria:\n",
    "    print(f\"As our p-value of {p_value} is lower than our acceptance_criteria of {acceptance_criteria} - we reject the null hypothesis, and conclude that: {alternate_hypothesis}\")\n",
    "else:\n",
    "    print(f\"As our p-value of {p_value} is higher than our acceptance_criteria of {acceptance_criteria} - we retain the null hypothesis, and conclude that: {null_hypothesis}\")\n"
   ]
  },
  {
   "cell_type": "code",
   "execution_count": 20,
   "id": "6d8c9ed2",
   "metadata": {},
   "outputs": [
    {
     "name": "stdout",
     "output_type": "stream",
     "text": [
      "As our chi-square statistic of 1.9414468614812481 is lower than our critical value of 3.841458820694124 - we retain the null hypothesis, and conclude that: There is no relationship between mailer type and signup rate. They are independent\n"
     ]
    }
   ],
   "source": [
    "# print results based on chi2-value\n",
    "if chi2_statistic >= critical_value:\n",
    "    print(f\"As our chi-square statistic of {chi2_statistic} is higher than our critical value of {critical_value} - we reject the null hypothesis, and conclude that: {alternate_hypothesis}\")\n",
    "else:\n",
    "    print(f\"As our chi-square statistic of {chi2_statistic} is lower than our critical value of {critical_value} - we retain the null hypothesis, and conclude that: {null_hypothesis}\")\n",
    "    "
   ]
  },
  {
   "cell_type": "markdown",
   "id": "a3c257dc",
   "metadata": {},
   "source": [
    "### Discussion and Conclusion"
   ]
  },
  {
   "cell_type": "markdown",
   "id": "c93e9b6d",
   "metadata": {},
   "source": [
    "As we can see from the outputs of these print statements, we do indeed retain the null hypothesis.  We could not find enough evidence that the signup rates for Mailer 1 and Mailer 2 were different - and thus conclude that there was no significant difference.\n",
    "null hypothesis"
   ]
  },
  {
   "cell_type": "markdown",
   "id": "fad732db",
   "metadata": {},
   "source": [
    "While we saw that the higher cost Mailer 2 had a higher signup rate (37.8%) than the lower cost Mailer 1 (32.8%) it appears that this difference is not significant, at least at our Acceptance Criteria of 0.05.\n",
    "\n",
    "Without running this Hypothesis Test, the client may have concluded that they should always look to go with higher cost mailers - and from what we've seen in this test, that may not be a great decision.  It would result in them spending more, but not *necessarily* gaining any extra revenue as a result\n",
    "\n",
    "Our results here also do not say that there *definitely isn't a difference between the two mailers* - we are only advising that we should not make any rigid conclusions *at this point*.  \n",
    "\n",
    "Running more A/B Tests like this, gathering more data, and then re-running this test may provide us, and the client more insight!\n"
   ]
  }
 ],
 "metadata": {
  "kernelspec": {
   "display_name": "Python 3 (ipykernel)",
   "language": "python",
   "name": "python3"
  },
  "language_info": {
   "codemirror_mode": {
    "name": "ipython",
    "version": 3
   },
   "file_extension": ".py",
   "mimetype": "text/x-python",
   "name": "python",
   "nbconvert_exporter": "python",
   "pygments_lexer": "ipython3",
   "version": "3.9.12"
  }
 },
 "nbformat": 4,
 "nbformat_minor": 5
}
